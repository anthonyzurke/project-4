{
 "cells": [
  {
   "cell_type": "markdown",
   "id": "ae3adcaf",
   "metadata": {},
   "source": [
    "## Libraries"
   ]
  },
  {
   "cell_type": "code",
   "execution_count": 1,
   "id": "c6b11216",
   "metadata": {},
   "outputs": [],
   "source": [
    "import pandas as pd\n",
    "import numpy as np\n",
    "import matplotlib.pyplot as plt\n",
    "import seaborn as sns\n",
    "#import xgboost as xgb\n",
    "\n",
    "from sklearn.ensemble import RandomForestClassifier\n",
    "from sklearn.model_selection import GridSearchCV, train_test_split, cross_val_score\n",
    "from sklearn import metrics\n",
    "from sklearn.metrics import confusion_matrix, plot_confusion_matrix, accuracy_score"
   ]
  },
  {
   "cell_type": "markdown",
   "id": "84c3af7a",
   "metadata": {},
   "source": [
    "## Data"
   ]
  },
  {
   "cell_type": "code",
   "execution_count": 2,
   "id": "b3a84212",
   "metadata": {},
   "outputs": [
    {
     "name": "stdout",
     "output_type": "stream",
     "text": [
      "(32561, 14)\n"
     ]
    },
    {
     "data": {
      "text/html": [
       "<div>\n",
       "<style scoped>\n",
       "    .dataframe tbody tr th:only-of-type {\n",
       "        vertical-align: middle;\n",
       "    }\n",
       "\n",
       "    .dataframe tbody tr th {\n",
       "        vertical-align: top;\n",
       "    }\n",
       "\n",
       "    .dataframe thead th {\n",
       "        text-align: right;\n",
       "    }\n",
       "</style>\n",
       "<table border=\"1\" class=\"dataframe\">\n",
       "  <thead>\n",
       "    <tr style=\"text-align: right;\">\n",
       "      <th></th>\n",
       "      <th>age</th>\n",
       "      <th>workclass</th>\n",
       "      <th>fnlwgt</th>\n",
       "      <th>education</th>\n",
       "      <th>education-num</th>\n",
       "      <th>marital-status</th>\n",
       "      <th>occupation</th>\n",
       "      <th>relationship</th>\n",
       "      <th>sex</th>\n",
       "      <th>capital-gain</th>\n",
       "      <th>capital-loss</th>\n",
       "      <th>hours-per-week</th>\n",
       "      <th>native-country</th>\n",
       "      <th>wage</th>\n",
       "    </tr>\n",
       "  </thead>\n",
       "  <tbody>\n",
       "    <tr>\n",
       "      <th>0</th>\n",
       "      <td>39</td>\n",
       "      <td>State-gov</td>\n",
       "      <td>77516</td>\n",
       "      <td>Bachelors</td>\n",
       "      <td>13</td>\n",
       "      <td>Never-married</td>\n",
       "      <td>Adm-clerical</td>\n",
       "      <td>Not-in-family</td>\n",
       "      <td>Male</td>\n",
       "      <td>2174</td>\n",
       "      <td>0</td>\n",
       "      <td>40</td>\n",
       "      <td>United-States</td>\n",
       "      <td>&lt;=50K</td>\n",
       "    </tr>\n",
       "    <tr>\n",
       "      <th>1</th>\n",
       "      <td>50</td>\n",
       "      <td>Self-emp-not-inc</td>\n",
       "      <td>83311</td>\n",
       "      <td>Bachelors</td>\n",
       "      <td>13</td>\n",
       "      <td>Married-civ-spouse</td>\n",
       "      <td>Exec-managerial</td>\n",
       "      <td>Husband</td>\n",
       "      <td>Male</td>\n",
       "      <td>0</td>\n",
       "      <td>0</td>\n",
       "      <td>13</td>\n",
       "      <td>United-States</td>\n",
       "      <td>&lt;=50K</td>\n",
       "    </tr>\n",
       "    <tr>\n",
       "      <th>2</th>\n",
       "      <td>38</td>\n",
       "      <td>Private</td>\n",
       "      <td>215646</td>\n",
       "      <td>HS-grad</td>\n",
       "      <td>9</td>\n",
       "      <td>Divorced</td>\n",
       "      <td>Handlers-cleaners</td>\n",
       "      <td>Not-in-family</td>\n",
       "      <td>Male</td>\n",
       "      <td>0</td>\n",
       "      <td>0</td>\n",
       "      <td>40</td>\n",
       "      <td>United-States</td>\n",
       "      <td>&lt;=50K</td>\n",
       "    </tr>\n",
       "    <tr>\n",
       "      <th>3</th>\n",
       "      <td>53</td>\n",
       "      <td>Private</td>\n",
       "      <td>234721</td>\n",
       "      <td>11th</td>\n",
       "      <td>7</td>\n",
       "      <td>Married-civ-spouse</td>\n",
       "      <td>Handlers-cleaners</td>\n",
       "      <td>Husband</td>\n",
       "      <td>Male</td>\n",
       "      <td>0</td>\n",
       "      <td>0</td>\n",
       "      <td>40</td>\n",
       "      <td>United-States</td>\n",
       "      <td>&lt;=50K</td>\n",
       "    </tr>\n",
       "    <tr>\n",
       "      <th>4</th>\n",
       "      <td>28</td>\n",
       "      <td>Private</td>\n",
       "      <td>338409</td>\n",
       "      <td>Bachelors</td>\n",
       "      <td>13</td>\n",
       "      <td>Married-civ-spouse</td>\n",
       "      <td>Prof-specialty</td>\n",
       "      <td>Wife</td>\n",
       "      <td>Female</td>\n",
       "      <td>0</td>\n",
       "      <td>0</td>\n",
       "      <td>40</td>\n",
       "      <td>Cuba</td>\n",
       "      <td>&lt;=50K</td>\n",
       "    </tr>\n",
       "  </tbody>\n",
       "</table>\n",
       "</div>"
      ],
      "text/plain": [
       "   age          workclass  fnlwgt   education  education-num  \\\n",
       "0   39          State-gov   77516   Bachelors             13   \n",
       "1   50   Self-emp-not-inc   83311   Bachelors             13   \n",
       "2   38            Private  215646     HS-grad              9   \n",
       "3   53            Private  234721        11th              7   \n",
       "4   28            Private  338409   Bachelors             13   \n",
       "\n",
       "        marital-status          occupation    relationship      sex  \\\n",
       "0        Never-married        Adm-clerical   Not-in-family     Male   \n",
       "1   Married-civ-spouse     Exec-managerial         Husband     Male   \n",
       "2             Divorced   Handlers-cleaners   Not-in-family     Male   \n",
       "3   Married-civ-spouse   Handlers-cleaners         Husband     Male   \n",
       "4   Married-civ-spouse      Prof-specialty            Wife   Female   \n",
       "\n",
       "   capital-gain  capital-loss  hours-per-week  native-country    wage  \n",
       "0          2174             0              40   United-States   <=50K  \n",
       "1             0             0              13   United-States   <=50K  \n",
       "2             0             0              40   United-States   <=50K  \n",
       "3             0             0              40   United-States   <=50K  \n",
       "4             0             0              40            Cuba   <=50K  "
      ]
     },
     "execution_count": 2,
     "metadata": {},
     "output_type": "execute_result"
    }
   ],
   "source": [
    "df = pd.read_csv('data/large_train_sample.csv')\n",
    "print(df.shape)\n",
    "df.head()"
   ]
  },
  {
   "cell_type": "markdown",
   "id": "2955db70",
   "metadata": {},
   "source": [
    "## Data Cleaning"
   ]
  },
  {
   "cell_type": "code",
   "execution_count": 3,
   "id": "ae888799",
   "metadata": {},
   "outputs": [
    {
     "name": "stdout",
     "output_type": "stream",
     "text": [
      "<class 'pandas.core.frame.DataFrame'>\n",
      "RangeIndex: 32561 entries, 0 to 32560\n",
      "Data columns (total 14 columns):\n",
      " #   Column          Non-Null Count  Dtype \n",
      "---  ------          --------------  ----- \n",
      " 0   age             32561 non-null  int64 \n",
      " 1   workclass       32561 non-null  object\n",
      " 2   fnlwgt          32561 non-null  int64 \n",
      " 3   education       32561 non-null  object\n",
      " 4   education-num   32561 non-null  int64 \n",
      " 5   marital-status  32561 non-null  object\n",
      " 6   occupation      32561 non-null  object\n",
      " 7   relationship    32561 non-null  object\n",
      " 8   sex             32561 non-null  object\n",
      " 9   capital-gain    32561 non-null  int64 \n",
      " 10  capital-loss    32561 non-null  int64 \n",
      " 11  hours-per-week  32561 non-null  int64 \n",
      " 12  native-country  32561 non-null  object\n",
      " 13  wage            32561 non-null  object\n",
      "dtypes: int64(6), object(8)\n",
      "memory usage: 3.5+ MB\n"
     ]
    }
   ],
   "source": [
    "df.info()"
   ]
  },
  {
   "cell_type": "markdown",
   "id": "5eb3ed53",
   "metadata": {},
   "source": [
    "Drop columns we don't need"
   ]
  },
  {
   "cell_type": "code",
   "execution_count": 4,
   "id": "eb070c90",
   "metadata": {},
   "outputs": [],
   "source": [
    "drop_lis =['fnlwgt', 'education', 'marital-status', 'occupation']\n",
    "df.drop(drop_lis, axis = 1, inplace = True)"
   ]
  },
  {
   "cell_type": "code",
   "execution_count": 5,
   "id": "aa9c3a00",
   "metadata": {},
   "outputs": [],
   "source": [
    "df = df.drop(df.index[df.workclass == ' ?'])"
   ]
  },
  {
   "cell_type": "markdown",
   "id": "6a578c8f",
   "metadata": {},
   "source": [
    "Binarize wage, sex, native country column"
   ]
  },
  {
   "cell_type": "code",
   "execution_count": 6,
   "id": "2e568175",
   "metadata": {},
   "outputs": [
    {
     "data": {
      "text/plain": [
       "array([' <=50K', ' >50K'], dtype=object)"
      ]
     },
     "execution_count": 6,
     "metadata": {},
     "output_type": "execute_result"
    }
   ],
   "source": [
    "df.wage.unique()"
   ]
  },
  {
   "cell_type": "code",
   "execution_count": 7,
   "id": "a2f48114",
   "metadata": {},
   "outputs": [],
   "source": [
    "df['wage'] = df.wage.map({' >50K':0, ' <=50K':1})\n",
    "\n",
    "df['sex']= df.sex.map({' Male':0, ' Female':1})\n",
    "#sex = {' Male': 1,' Female': 0}\n",
    "#df.sex = [sex[item] for item in df.sex]"
   ]
  },
  {
   "cell_type": "code",
   "execution_count": 8,
   "id": "8d3cd8ae",
   "metadata": {},
   "outputs": [],
   "source": [
    "us_mask = df['native-country'] == ' United-States'\n",
    "df.loc[~us_mask, 'native-country'] = 0\n",
    "df.loc[us_mask, 'native-country'] = 1\n",
    "\n",
    "df['native-country'] = df['native-country'].astype(int)"
   ]
  },
  {
   "cell_type": "markdown",
   "id": "1db7e3f4",
   "metadata": {},
   "source": [
    "Dummy relationship and workclass columns"
   ]
  },
  {
   "cell_type": "code",
   "execution_count": 9,
   "id": "4201e25b",
   "metadata": {},
   "outputs": [],
   "source": [
    "df = pd.get_dummies(df, columns = ['relationship', 'workclass'])"
   ]
  },
  {
   "cell_type": "markdown",
   "id": "2eec0302",
   "metadata": {},
   "source": [
    "drop 2 unneeded dummy columns"
   ]
  },
  {
   "cell_type": "code",
   "execution_count": 10,
   "id": "434b50af",
   "metadata": {},
   "outputs": [],
   "source": [
    "df.drop('workclass_ Never-worked', axis = 1, inplace = True)\n",
    "df.drop('relationship_ Not-in-family', axis = 1, inplace = True)"
   ]
  },
  {
   "cell_type": "markdown",
   "id": "c88486e8",
   "metadata": {},
   "source": [
    "### Summary Stats"
   ]
  },
  {
   "cell_type": "code",
   "execution_count": 11,
   "id": "c096451b",
   "metadata": {},
   "outputs": [
    {
     "data": {
      "text/html": [
       "<div>\n",
       "<style scoped>\n",
       "    .dataframe tbody tr th:only-of-type {\n",
       "        vertical-align: middle;\n",
       "    }\n",
       "\n",
       "    .dataframe tbody tr th {\n",
       "        vertical-align: top;\n",
       "    }\n",
       "\n",
       "    .dataframe thead th {\n",
       "        text-align: right;\n",
       "    }\n",
       "</style>\n",
       "<table border=\"1\" class=\"dataframe\">\n",
       "  <thead>\n",
       "    <tr style=\"text-align: right;\">\n",
       "      <th></th>\n",
       "      <th>age</th>\n",
       "      <th>education-num</th>\n",
       "      <th>sex</th>\n",
       "      <th>capital-gain</th>\n",
       "      <th>capital-loss</th>\n",
       "      <th>hours-per-week</th>\n",
       "      <th>native-country</th>\n",
       "      <th>wage</th>\n",
       "      <th>relationship_ Husband</th>\n",
       "      <th>relationship_ Other-relative</th>\n",
       "      <th>relationship_ Own-child</th>\n",
       "      <th>relationship_ Unmarried</th>\n",
       "      <th>relationship_ Wife</th>\n",
       "      <th>workclass_ Federal-gov</th>\n",
       "      <th>workclass_ Local-gov</th>\n",
       "      <th>workclass_ Private</th>\n",
       "      <th>workclass_ Self-emp-inc</th>\n",
       "      <th>workclass_ Self-emp-not-inc</th>\n",
       "      <th>workclass_ State-gov</th>\n",
       "      <th>workclass_ Without-pay</th>\n",
       "    </tr>\n",
       "  </thead>\n",
       "  <tbody>\n",
       "    <tr>\n",
       "      <th>count</th>\n",
       "      <td>30725.000000</td>\n",
       "      <td>30725.000000</td>\n",
       "      <td>30725.000000</td>\n",
       "      <td>30725.000000</td>\n",
       "      <td>30725.000000</td>\n",
       "      <td>30725.000000</td>\n",
       "      <td>30725.000000</td>\n",
       "      <td>30725.000000</td>\n",
       "      <td>30725.000000</td>\n",
       "      <td>30725.000000</td>\n",
       "      <td>30725.000000</td>\n",
       "      <td>30725.000000</td>\n",
       "      <td>30725.000000</td>\n",
       "      <td>30725.000000</td>\n",
       "      <td>30725.000000</td>\n",
       "      <td>30725.000000</td>\n",
       "      <td>30725.000000</td>\n",
       "      <td>30725.000000</td>\n",
       "      <td>30725.000000</td>\n",
       "      <td>30725.000000</td>\n",
       "    </tr>\n",
       "    <tr>\n",
       "      <th>mean</th>\n",
       "      <td>38.439512</td>\n",
       "      <td>10.129699</td>\n",
       "      <td>0.323255</td>\n",
       "      <td>1105.785094</td>\n",
       "      <td>88.889959</td>\n",
       "      <td>40.946461</td>\n",
       "      <td>0.895395</td>\n",
       "      <td>0.751017</td>\n",
       "      <td>0.413474</td>\n",
       "      <td>0.029878</td>\n",
       "      <td>0.147437</td>\n",
       "      <td>0.106461</td>\n",
       "      <td>0.046737</td>\n",
       "      <td>0.031245</td>\n",
       "      <td>0.068120</td>\n",
       "      <td>0.738682</td>\n",
       "      <td>0.036322</td>\n",
       "      <td>0.082701</td>\n",
       "      <td>0.042246</td>\n",
       "      <td>0.000456</td>\n",
       "    </tr>\n",
       "    <tr>\n",
       "      <th>std</th>\n",
       "      <td>13.119665</td>\n",
       "      <td>2.562702</td>\n",
       "      <td>0.467727</td>\n",
       "      <td>7497.027762</td>\n",
       "      <td>405.613208</td>\n",
       "      <td>11.987385</td>\n",
       "      <td>0.306049</td>\n",
       "      <td>0.432431</td>\n",
       "      <td>0.492464</td>\n",
       "      <td>0.170253</td>\n",
       "      <td>0.354547</td>\n",
       "      <td>0.308431</td>\n",
       "      <td>0.211079</td>\n",
       "      <td>0.173982</td>\n",
       "      <td>0.251957</td>\n",
       "      <td>0.439360</td>\n",
       "      <td>0.187094</td>\n",
       "      <td>0.275435</td>\n",
       "      <td>0.201153</td>\n",
       "      <td>0.021342</td>\n",
       "    </tr>\n",
       "    <tr>\n",
       "      <th>min</th>\n",
       "      <td>17.000000</td>\n",
       "      <td>1.000000</td>\n",
       "      <td>0.000000</td>\n",
       "      <td>0.000000</td>\n",
       "      <td>0.000000</td>\n",
       "      <td>1.000000</td>\n",
       "      <td>0.000000</td>\n",
       "      <td>0.000000</td>\n",
       "      <td>0.000000</td>\n",
       "      <td>0.000000</td>\n",
       "      <td>0.000000</td>\n",
       "      <td>0.000000</td>\n",
       "      <td>0.000000</td>\n",
       "      <td>0.000000</td>\n",
       "      <td>0.000000</td>\n",
       "      <td>0.000000</td>\n",
       "      <td>0.000000</td>\n",
       "      <td>0.000000</td>\n",
       "      <td>0.000000</td>\n",
       "      <td>0.000000</td>\n",
       "    </tr>\n",
       "    <tr>\n",
       "      <th>25%</th>\n",
       "      <td>28.000000</td>\n",
       "      <td>9.000000</td>\n",
       "      <td>0.000000</td>\n",
       "      <td>0.000000</td>\n",
       "      <td>0.000000</td>\n",
       "      <td>40.000000</td>\n",
       "      <td>1.000000</td>\n",
       "      <td>1.000000</td>\n",
       "      <td>0.000000</td>\n",
       "      <td>0.000000</td>\n",
       "      <td>0.000000</td>\n",
       "      <td>0.000000</td>\n",
       "      <td>0.000000</td>\n",
       "      <td>0.000000</td>\n",
       "      <td>0.000000</td>\n",
       "      <td>0.000000</td>\n",
       "      <td>0.000000</td>\n",
       "      <td>0.000000</td>\n",
       "      <td>0.000000</td>\n",
       "      <td>0.000000</td>\n",
       "    </tr>\n",
       "    <tr>\n",
       "      <th>50%</th>\n",
       "      <td>37.000000</td>\n",
       "      <td>10.000000</td>\n",
       "      <td>0.000000</td>\n",
       "      <td>0.000000</td>\n",
       "      <td>0.000000</td>\n",
       "      <td>40.000000</td>\n",
       "      <td>1.000000</td>\n",
       "      <td>1.000000</td>\n",
       "      <td>0.000000</td>\n",
       "      <td>0.000000</td>\n",
       "      <td>0.000000</td>\n",
       "      <td>0.000000</td>\n",
       "      <td>0.000000</td>\n",
       "      <td>0.000000</td>\n",
       "      <td>0.000000</td>\n",
       "      <td>1.000000</td>\n",
       "      <td>0.000000</td>\n",
       "      <td>0.000000</td>\n",
       "      <td>0.000000</td>\n",
       "      <td>0.000000</td>\n",
       "    </tr>\n",
       "    <tr>\n",
       "      <th>75%</th>\n",
       "      <td>47.000000</td>\n",
       "      <td>13.000000</td>\n",
       "      <td>1.000000</td>\n",
       "      <td>0.000000</td>\n",
       "      <td>0.000000</td>\n",
       "      <td>45.000000</td>\n",
       "      <td>1.000000</td>\n",
       "      <td>1.000000</td>\n",
       "      <td>1.000000</td>\n",
       "      <td>0.000000</td>\n",
       "      <td>0.000000</td>\n",
       "      <td>0.000000</td>\n",
       "      <td>0.000000</td>\n",
       "      <td>0.000000</td>\n",
       "      <td>0.000000</td>\n",
       "      <td>1.000000</td>\n",
       "      <td>0.000000</td>\n",
       "      <td>0.000000</td>\n",
       "      <td>0.000000</td>\n",
       "      <td>0.000000</td>\n",
       "    </tr>\n",
       "    <tr>\n",
       "      <th>max</th>\n",
       "      <td>90.000000</td>\n",
       "      <td>16.000000</td>\n",
       "      <td>1.000000</td>\n",
       "      <td>99999.000000</td>\n",
       "      <td>4356.000000</td>\n",
       "      <td>99.000000</td>\n",
       "      <td>1.000000</td>\n",
       "      <td>1.000000</td>\n",
       "      <td>1.000000</td>\n",
       "      <td>1.000000</td>\n",
       "      <td>1.000000</td>\n",
       "      <td>1.000000</td>\n",
       "      <td>1.000000</td>\n",
       "      <td>1.000000</td>\n",
       "      <td>1.000000</td>\n",
       "      <td>1.000000</td>\n",
       "      <td>1.000000</td>\n",
       "      <td>1.000000</td>\n",
       "      <td>1.000000</td>\n",
       "      <td>1.000000</td>\n",
       "    </tr>\n",
       "  </tbody>\n",
       "</table>\n",
       "</div>"
      ],
      "text/plain": [
       "                age  education-num           sex  capital-gain  capital-loss  \\\n",
       "count  30725.000000   30725.000000  30725.000000  30725.000000  30725.000000   \n",
       "mean      38.439512      10.129699      0.323255   1105.785094     88.889959   \n",
       "std       13.119665       2.562702      0.467727   7497.027762    405.613208   \n",
       "min       17.000000       1.000000      0.000000      0.000000      0.000000   \n",
       "25%       28.000000       9.000000      0.000000      0.000000      0.000000   \n",
       "50%       37.000000      10.000000      0.000000      0.000000      0.000000   \n",
       "75%       47.000000      13.000000      1.000000      0.000000      0.000000   \n",
       "max       90.000000      16.000000      1.000000  99999.000000   4356.000000   \n",
       "\n",
       "       hours-per-week  native-country          wage  relationship_ Husband  \\\n",
       "count    30725.000000    30725.000000  30725.000000           30725.000000   \n",
       "mean        40.946461        0.895395      0.751017               0.413474   \n",
       "std         11.987385        0.306049      0.432431               0.492464   \n",
       "min          1.000000        0.000000      0.000000               0.000000   \n",
       "25%         40.000000        1.000000      1.000000               0.000000   \n",
       "50%         40.000000        1.000000      1.000000               0.000000   \n",
       "75%         45.000000        1.000000      1.000000               1.000000   \n",
       "max         99.000000        1.000000      1.000000               1.000000   \n",
       "\n",
       "       relationship_ Other-relative  relationship_ Own-child  \\\n",
       "count                  30725.000000             30725.000000   \n",
       "mean                       0.029878                 0.147437   \n",
       "std                        0.170253                 0.354547   \n",
       "min                        0.000000                 0.000000   \n",
       "25%                        0.000000                 0.000000   \n",
       "50%                        0.000000                 0.000000   \n",
       "75%                        0.000000                 0.000000   \n",
       "max                        1.000000                 1.000000   \n",
       "\n",
       "       relationship_ Unmarried  relationship_ Wife  workclass_ Federal-gov  \\\n",
       "count             30725.000000        30725.000000            30725.000000   \n",
       "mean                  0.106461            0.046737                0.031245   \n",
       "std                   0.308431            0.211079                0.173982   \n",
       "min                   0.000000            0.000000                0.000000   \n",
       "25%                   0.000000            0.000000                0.000000   \n",
       "50%                   0.000000            0.000000                0.000000   \n",
       "75%                   0.000000            0.000000                0.000000   \n",
       "max                   1.000000            1.000000                1.000000   \n",
       "\n",
       "       workclass_ Local-gov  workclass_ Private  workclass_ Self-emp-inc  \\\n",
       "count          30725.000000        30725.000000             30725.000000   \n",
       "mean               0.068120            0.738682                 0.036322   \n",
       "std                0.251957            0.439360                 0.187094   \n",
       "min                0.000000            0.000000                 0.000000   \n",
       "25%                0.000000            0.000000                 0.000000   \n",
       "50%                0.000000            1.000000                 0.000000   \n",
       "75%                0.000000            1.000000                 0.000000   \n",
       "max                1.000000            1.000000                 1.000000   \n",
       "\n",
       "       workclass_ Self-emp-not-inc  workclass_ State-gov  \\\n",
       "count                 30725.000000          30725.000000   \n",
       "mean                      0.082701              0.042246   \n",
       "std                       0.275435              0.201153   \n",
       "min                       0.000000              0.000000   \n",
       "25%                       0.000000              0.000000   \n",
       "50%                       0.000000              0.000000   \n",
       "75%                       0.000000              0.000000   \n",
       "max                       1.000000              1.000000   \n",
       "\n",
       "       workclass_ Without-pay  \n",
       "count            30725.000000  \n",
       "mean                 0.000456  \n",
       "std                  0.021342  \n",
       "min                  0.000000  \n",
       "25%                  0.000000  \n",
       "50%                  0.000000  \n",
       "75%                  0.000000  \n",
       "max                  1.000000  "
      ]
     },
     "execution_count": 11,
     "metadata": {},
     "output_type": "execute_result"
    }
   ],
   "source": [
    "df.describe()"
   ]
  },
  {
   "cell_type": "markdown",
   "id": "1c67eb7c",
   "metadata": {},
   "source": [
    "### EDA"
   ]
  },
  {
   "cell_type": "code",
   "execution_count": 12,
   "id": "4dad6701",
   "metadata": {},
   "outputs": [
    {
     "data": {
      "image/png": "[encoded data removed]",
      "text/plain": [
       "<Figure size 576x576 with 2 Axes>"
      ]
     },
     "metadata": {
      "needs_background": "light"
     },
     "output_type": "display_data"
    }
   ],
   "source": [
    "plt.figure(figsize = (8,8))\n",
    "sns_plot = sns.heatmap(df.corr()[['wage']].sort_values('wage'),\n",
    "           annot=True,\n",
    "           cmap='viridis',\n",
    "           vmin=-1,\n",
    "           vmax=1)\n",
    "fig = sns_plot.get_figure()\n",
    "#fig.savefig('./corr_map.png')"
   ]
  },
  {
   "cell_type": "code",
   "execution_count": 13,
   "id": "4f5880dd",
   "metadata": {},
   "outputs": [
    {
     "data": {
      "image/png": "[encoded data removed]",
      "text/plain": [
       "<Figure size 1440x1440 with 20 Axes>"
      ]
     },
     "metadata": {
      "needs_background": "light"
     },
     "output_type": "display_data"
    }
   ],
   "source": [
    "df.hist(figsize=(20, 20));"
   ]
  },
  {
   "cell_type": "markdown",
   "id": "9b081805",
   "metadata": {},
   "source": [
    "## Modeling"
   ]
  },
  {
   "cell_type": "markdown",
   "id": "dd4c6ba3",
   "metadata": {},
   "source": [
    "### Random Forest"
   ]
  },
  {
   "cell_type": "code",
   "execution_count": 14,
   "id": "5ff93297",
   "metadata": {},
   "outputs": [
    {
     "name": "stdout",
     "output_type": "stream",
     "text": [
      "0.8484571908675056\n"
     ]
    },
    {
     "data": {
      "text/plain": [
       "{'max_depth': 8, 'min_samples_leaf': 3, 'n_estimators': 75, 'n_jobs': -1}"
      ]
     },
     "execution_count": 14,
     "metadata": {},
     "output_type": "execute_result"
    }
   ],
   "source": [
    "X_train, X_test, y_train, y_test = train_test_split(df.drop(columns=['wage'], axis =1), df['wage'])\n",
    "\n",
    "params = {\n",
    "    'max_depth': [1, 2, 3, 4, 6, 8],\n",
    "    'min_samples_leaf': [2, 3],\n",
    "    'n_estimators': [25, 75],\n",
    "    'n_jobs': [-1]}\n",
    "    \n",
    "gs = GridSearchCV(RandomForestClassifier(random_state = 6),\n",
    "                  param_grid = params)\n",
    "gs.fit(X_train, y_train)\n",
    "print(gs.best_score_)\n",
    "gs.best_params_"
   ]
  },
  {
   "cell_type": "code",
   "execution_count": 15,
   "id": "0b391083",
   "metadata": {},
   "outputs": [
    {
     "name": "stdout",
     "output_type": "stream",
     "text": [
      "Score on training set: 0.8513648396476153\n",
      "Score on testing set: 0.8590210882582661\n"
     ]
    }
   ],
   "source": [
    "print(f'Score on training set: {gs.score(X_train, y_train)}')\n",
    "print(f'Score on testing set: {gs.score(X_test, y_test)}')"
   ]
  },
  {
   "cell_type": "markdown",
   "id": "8e94cb5e",
   "metadata": {},
   "source": [
    "**Evaluation**\n",
    "\n",
    "The model displays good accuracy scores for both test and train data, numbers closer to 1.\n",
    "The accuracy score is slightly lower for the test data compared to the train data indicating an overfit of the model. This is typically expected with RF models..best_params_\n",
    "scores = cross_val_score"
   ]
  },
  {
   "cell_type": "markdown",
   "id": "84f508c9",
   "metadata": {},
   "source": [
    "**Cross Val Scores**"
   ]
  },
  {
   "cell_type": "code",
   "execution_count": 16,
   "id": "ed6542f6",
   "metadata": {},
   "outputs": [
    {
     "name": "stdout",
     "output_type": "stream",
     "text": [
      "Accuracy: 0.8478 ± 0.0124\n"
     ]
    }
   ],
   "source": [
    "params = gs.best_params_\n",
    "scores = cross_val_score(gs, \n",
    "                         X_train, y_train,\n",
    "                         cv = 5,\n",
    "                         n_jobs = -1)\n",
    "\n",
    "print('Accuracy: {:.4f} ± {:.4f}'.format(scores.mean(), \n",
    "                                 2 * scores.std()))"
   ]
  },
  {
   "cell_type": "markdown",
   "id": "0be9d56c",
   "metadata": {},
   "source": [
    "**Evaluation**\n",
    "\n",
    "When compared to the UCI repository, the original site of the data, our model, with feature constraints performed as expected."
   ]
  },
  {
   "cell_type": "code",
   "execution_count": 17,
   "id": "b0799ffa",
   "metadata": {},
   "outputs": [
    {
     "name": "stdout",
     "output_type": "stream",
     "text": [
      "Accuracy: 0.8590210882582661\n",
      "Sensitivity: 0.9648336493707982\n",
      "Precision: 0.8642680667078444\n",
      "Recall: 0.9648336493707982\n",
      "F1: 0.9117862670033395\n",
      "Cross val score: 0.8484571908675056\n"
     ]
    },
    {
     "data": {
      "image/png": "[encoded data removed]",
      "text/plain": [
       "<Figure size 432x288 with 2 Axes>"
      ]
     },
     "metadata": {
      "needs_background": "light"
     },
     "output_type": "display_data"
    }
   ],
   "source": [
    "rf_pred = gs.predict(X_test)\n",
    "metrics.confusion_matrix(y_test, rf_pred)\n",
    "metrics.plot_confusion_matrix(gs, X_test, y_test, cmap = 'GnBu', display_labels=['Over 50k', 'Under 50k']);\n",
    "\n",
    "print('Accuracy:', gs.score(X_test, y_test))\n",
    "print('Sensitivity:', metrics.recall_score(y_test, rf_pred))\n",
    "print('Precision:', metrics.precision_score(y_test, rf_pred))\n",
    "print('Recall:', metrics.recall_score(y_test, rf_pred))\n",
    "print('F1:', metrics.f1_score(y_test, rf_pred))\n",
    "print('Cross val score:', (gs.best_score_))"
   ]
  },
  {
   "cell_type": "markdown",
   "id": "e0e9f0d8",
   "metadata": {},
   "source": [
    "### XGBoost"
   ]
  },
  {
   "cell_type": "code",
   "execution_count": 18,
   "id": "5253a76f",
   "metadata": {},
   "outputs": [],
   "source": [
    "from xgboost import XGBClassifier\n",
    "import warnings\n",
    "warnings.filterwarnings('ignore')"
   ]
  },
  {
   "cell_type": "code",
   "execution_count": 19,
   "id": "4d235fb7",
   "metadata": {},
   "outputs": [
    {
     "data": {
      "text/plain": [
       "XGBClassifier(base_score=0.5, booster='gbtree', colsample_bylevel=1,\n",
       "              colsample_bynode=1, colsample_bytree=1, gamma=0, gpu_id=-1,\n",
       "              importance_type='gain', interaction_constraints='',\n",
       "              learning_rate=0.300000012, max_delta_step=0, max_depth=6,\n",
       "              min_child_weight=1, missing=nan, monotone_constraints='()',\n",
       "              n_estimators=100, n_jobs=8, num_parallel_tree=1,\n",
       "              objective='reg:linear', random_state=6, reg_alpha=0, reg_lambda=1,\n",
       "              scale_pos_weight=1, subsample=1, tree_method='exact',\n",
       "              validate_parameters=1, verbosity=0)"
      ]
     },
     "execution_count": 19,
     "metadata": {},
     "output_type": "execute_result"
    }
   ],
   "source": [
    "model = XGBClassifier(objective = 'reg:linear', verbosity = 0, random_state = 6)\n",
    "model.fit(X_train, y_train)"
   ]
  },
  {
   "cell_type": "code",
   "execution_count": 20,
   "id": "432e2023",
   "metadata": {},
   "outputs": [
    {
     "name": "stdout",
     "output_type": "stream",
     "text": [
      "Accuracy: 87.05%\n"
     ]
    }
   ],
   "source": [
    "xg_pred = model.predict(X_test)\n",
    "accuaracy = accuracy_score(y_test, xg_pred)\n",
    "print('Accuracy: %.2f%%' %(accuaracy * 100))"
   ]
  },
  {
   "cell_type": "code",
   "execution_count": 21,
   "id": "697548fa",
   "metadata": {},
   "outputs": [
    {
     "name": "stdout",
     "output_type": "stream",
     "text": [
      "0.8611726415407054\n"
     ]
    },
    {
     "data": {
      "text/plain": [
       "{'eta': 0.4, 'max_depth': 4, 'n_estimators': 75, 'n_jobs': -1, 'verbosity': 0}"
      ]
     },
     "execution_count": 21,
     "metadata": {},
     "output_type": "execute_result"
    }
   ],
   "source": [
    "params_2 = {\n",
    "    'max_depth': [1, 2, 3, 4, 6, 8],\n",
    "    'verbosity': [0],\n",
    "    'eta': [.1, .2, .4],\n",
    "    'n_estimators': [25, 75],\n",
    "    'n_jobs': [-1]\n",
    "}\n",
    "    \n",
    "gs_2 = GridSearchCV(XGBClassifier(objective = 'reg:linear', random_state = 6), param_grid = params_2)\n",
    "gs_2.fit(X_train, y_train)\n",
    "print(gs_2.best_score_)\n",
    "gs_2.best_params_"
   ]
  },
  {
   "cell_type": "code",
   "execution_count": 22,
   "id": "78cf9d24",
   "metadata": {},
   "outputs": [
    {
     "name": "stdout",
     "output_type": "stream",
     "text": [
      "Score on training set: 0.8700690014321052\n",
      "Score on testing set: 0.8703462639937516\n"
     ]
    }
   ],
   "source": [
    "print(f'Score on training set: {gs_2.score(X_train, y_train)}')\n",
    "print(f'Score on testing set: {gs_2.score(X_test, y_test)}')"
   ]
  },
  {
   "cell_type": "markdown",
   "id": "820bed65",
   "metadata": {},
   "source": [
    "Evaluation\n",
    "\n",
    "The model displays good accuracy scores for both test and train data, with the test data outperforming the train data."
   ]
  },
  {
   "cell_type": "code",
   "execution_count": 23,
   "id": "5186b390",
   "metadata": {},
   "outputs": [
    {
     "name": "stdout",
     "output_type": "stream",
     "text": [
      "Accuracy: 0.8592 ± 0.0138\n"
     ]
    }
   ],
   "source": [
    "params_2 = gs_2.best_params_\n",
    "scores_2 = cross_val_score(gs_2, \n",
    "                           X_train, y_train, \n",
    "                           cv = 5, \n",
    "                           n_jobs = -1)\n",
    "\n",
    "print('Accuracy: {:.4f} ± {:.4f}'.format(scores_2.mean(), \n",
    "                                 2 * scores_2.std()))"
   ]
  },
  {
   "cell_type": "code",
   "execution_count": 24,
   "id": "09e6d79f",
   "metadata": {},
   "outputs": [
    {
     "name": "stdout",
     "output_type": "stream",
     "text": [
      "Accuracy: 0.8703462639937516\n",
      "Sensitivity: 0.9419065678331322\n",
      "Precision: 0.8925187847108788\n",
      "Recall: 0.9419065678331322\n",
      "F1: 0.9165478486957981\n",
      "Cross val score: 0.8611726415407054\n"
     ]
    },
    {
     "data": {
      "image/png": "[encoded data removed]",
      "text/plain": [
       "<Figure size 432x288 with 2 Axes>"
      ]
     },
     "metadata": {
      "needs_background": "light"
     },
     "output_type": "display_data"
    }
   ],
   "source": [
    "metrics.confusion_matrix(y_test, xg_pred)\n",
    "metrics.plot_confusion_matrix(gs_2, X_test, y_test, cmap = 'GnBu', display_labels=['Over 50k', 'Under 50k']);\n",
    "\n",
    "print('Accuracy:', gs_2.score(X_test, y_test))\n",
    "print('Sensitivity:', metrics.recall_score(y_test, xg_pred))\n",
    "print('Precision:', metrics.precision_score(y_test, xg_pred))\n",
    "print('Recall:', metrics.recall_score(y_test, xg_pred))\n",
    "print('F1:', metrics.f1_score(y_test, xg_pred))\n",
    "print('Cross val score:', (gs_2.best_score_))"
   ]
  }
 ],
 "metadata": {
  "kernelspec": {
   "display_name": "Python 3",
   "language": "python",
   "name": "python3"
  },
  "language_info": {
   "codemirror_mode": {
    "name": "ipython",
    "version": 3
   },
   "file_extension": ".py",
   "mimetype": "text/x-python",
   "name": "python",
   "nbconvert_exporter": "python",
   "pygments_lexer": "ipython3",
   "version": "3.8.8"
  }
 },
 "nbformat": 4,
 "nbformat_minor": 5
}
