{
 "cells": [
  {
   "cell_type": "markdown",
   "id": "0172644b",
   "metadata": {},
   "source": [
    "# Contents\n",
    "\n",
    "- [Libraries](#Libraries)\n",
    "- [Data](#Data)\n",
    "- [Data Cleaning](#Data-Cleaning)\n",
    "- [EDA](#EDA)\n",
    "- [Modeling](#Modeling)\n",
    "    - [Random Forest](#Random-Forest)\n",
    "    - [XGBClassifier](#XGBClassifier)\n",
    "    - [XGBClassifier Dart](#XGBClassifier-Dart)\n",
    "- [Export Data](#Export-Data)"
   ]
  },
  {
   "cell_type": "markdown",
   "id": "ae3adcaf",
   "metadata": {},
   "source": [
    "# Libraries"
   ]
  },
  {
   "cell_type": "code",
   "execution_count": 1,
   "id": "c6b11216",
   "metadata": {},
   "outputs": [],
   "source": [
    "import pandas as pd\n",
    "import numpy as np\n",
    "import matplotlib.pyplot as plt\n",
    "import seaborn as sns\n",
    "\n",
    "from sklearn.model_selection import GridSearchCV, train_test_split, cross_val_score\n",
    "from sklearn.ensemble import RandomForestClassifier\n",
    "from xgboost import XGBClassifier\n",
    "from sklearn import metrics\n",
    "from sklearn.metrics import confusion_matrix, plot_confusion_matrix, accuracy_score\n",
    "\n",
    "import warnings\n",
    "warnings.filterwarnings('ignore')"
   ]
  },
  {
   "cell_type": "markdown",
   "id": "84c3af7a",
   "metadata": {},
   "source": [
    "# Data"
   ]
  },
  {
   "cell_type": "code",
   "execution_count": 2,
   "id": "b3a84212",
   "metadata": {},
   "outputs": [
    {
     "name": "stdout",
     "output_type": "stream",
     "text": [
      "(32561, 14)\n"
     ]
    },
    {
     "data": {
      "text/html": [
       "<div>\n",
       "<style scoped>\n",
       "    .dataframe tbody tr th:only-of-type {\n",
       "        vertical-align: middle;\n",
       "    }\n",
       "\n",
       "    .dataframe tbody tr th {\n",
       "        vertical-align: top;\n",
       "    }\n",
       "\n",
       "    .dataframe thead th {\n",
       "        text-align: right;\n",
       "    }\n",
       "</style>\n",
       "<table border=\"1\" class=\"dataframe\">\n",
       "  <thead>\n",
       "    <tr style=\"text-align: right;\">\n",
       "      <th></th>\n",
       "      <th>age</th>\n",
       "      <th>workclass</th>\n",
       "      <th>fnlwgt</th>\n",
       "      <th>education</th>\n",
       "      <th>education-num</th>\n",
       "      <th>marital-status</th>\n",
       "      <th>occupation</th>\n",
       "      <th>relationship</th>\n",
       "      <th>sex</th>\n",
       "      <th>capital-gain</th>\n",
       "      <th>capital-loss</th>\n",
       "      <th>hours-per-week</th>\n",
       "      <th>native-country</th>\n",
       "      <th>wage</th>\n",
       "    </tr>\n",
       "  </thead>\n",
       "  <tbody>\n",
       "    <tr>\n",
       "      <th>0</th>\n",
       "      <td>39</td>\n",
       "      <td>State-gov</td>\n",
       "      <td>77516</td>\n",
       "      <td>Bachelors</td>\n",
       "      <td>13</td>\n",
       "      <td>Never-married</td>\n",
       "      <td>Adm-clerical</td>\n",
       "      <td>Not-in-family</td>\n",
       "      <td>Male</td>\n",
       "      <td>2174</td>\n",
       "      <td>0</td>\n",
       "      <td>40</td>\n",
       "      <td>United-States</td>\n",
       "      <td>&lt;=50K</td>\n",
       "    </tr>\n",
       "    <tr>\n",
       "      <th>1</th>\n",
       "      <td>50</td>\n",
       "      <td>Self-emp-not-inc</td>\n",
       "      <td>83311</td>\n",
       "      <td>Bachelors</td>\n",
       "      <td>13</td>\n",
       "      <td>Married-civ-spouse</td>\n",
       "      <td>Exec-managerial</td>\n",
       "      <td>Husband</td>\n",
       "      <td>Male</td>\n",
       "      <td>0</td>\n",
       "      <td>0</td>\n",
       "      <td>13</td>\n",
       "      <td>United-States</td>\n",
       "      <td>&lt;=50K</td>\n",
       "    </tr>\n",
       "    <tr>\n",
       "      <th>2</th>\n",
       "      <td>38</td>\n",
       "      <td>Private</td>\n",
       "      <td>215646</td>\n",
       "      <td>HS-grad</td>\n",
       "      <td>9</td>\n",
       "      <td>Divorced</td>\n",
       "      <td>Handlers-cleaners</td>\n",
       "      <td>Not-in-family</td>\n",
       "      <td>Male</td>\n",
       "      <td>0</td>\n",
       "      <td>0</td>\n",
       "      <td>40</td>\n",
       "      <td>United-States</td>\n",
       "      <td>&lt;=50K</td>\n",
       "    </tr>\n",
       "    <tr>\n",
       "      <th>3</th>\n",
       "      <td>53</td>\n",
       "      <td>Private</td>\n",
       "      <td>234721</td>\n",
       "      <td>11th</td>\n",
       "      <td>7</td>\n",
       "      <td>Married-civ-spouse</td>\n",
       "      <td>Handlers-cleaners</td>\n",
       "      <td>Husband</td>\n",
       "      <td>Male</td>\n",
       "      <td>0</td>\n",
       "      <td>0</td>\n",
       "      <td>40</td>\n",
       "      <td>United-States</td>\n",
       "      <td>&lt;=50K</td>\n",
       "    </tr>\n",
       "    <tr>\n",
       "      <th>4</th>\n",
       "      <td>28</td>\n",
       "      <td>Private</td>\n",
       "      <td>338409</td>\n",
       "      <td>Bachelors</td>\n",
       "      <td>13</td>\n",
       "      <td>Married-civ-spouse</td>\n",
       "      <td>Prof-specialty</td>\n",
       "      <td>Wife</td>\n",
       "      <td>Female</td>\n",
       "      <td>0</td>\n",
       "      <td>0</td>\n",
       "      <td>40</td>\n",
       "      <td>Cuba</td>\n",
       "      <td>&lt;=50K</td>\n",
       "    </tr>\n",
       "  </tbody>\n",
       "</table>\n",
       "</div>"
      ],
      "text/plain": [
       "   age          workclass  fnlwgt   education  education-num  \\\n",
       "0   39          State-gov   77516   Bachelors             13   \n",
       "1   50   Self-emp-not-inc   83311   Bachelors             13   \n",
       "2   38            Private  215646     HS-grad              9   \n",
       "3   53            Private  234721        11th              7   \n",
       "4   28            Private  338409   Bachelors             13   \n",
       "\n",
       "        marital-status          occupation    relationship      sex  \\\n",
       "0        Never-married        Adm-clerical   Not-in-family     Male   \n",
       "1   Married-civ-spouse     Exec-managerial         Husband     Male   \n",
       "2             Divorced   Handlers-cleaners   Not-in-family     Male   \n",
       "3   Married-civ-spouse   Handlers-cleaners         Husband     Male   \n",
       "4   Married-civ-spouse      Prof-specialty            Wife   Female   \n",
       "\n",
       "   capital-gain  capital-loss  hours-per-week  native-country    wage  \n",
       "0          2174             0              40   United-States   <=50K  \n",
       "1             0             0              13   United-States   <=50K  \n",
       "2             0             0              40   United-States   <=50K  \n",
       "3             0             0              40   United-States   <=50K  \n",
       "4             0             0              40            Cuba   <=50K  "
      ]
     },
     "execution_count": 2,
     "metadata": {},
     "output_type": "execute_result"
    }
   ],
   "source": [
    "df = pd.read_csv('data/large_train_sample.csv')\n",
    "print(df.shape)\n",
    "df.head()"
   ]
  },
  {
   "cell_type": "markdown",
   "id": "2955db70",
   "metadata": {},
   "source": [
    "# Data Cleaning"
   ]
  },
  {
   "cell_type": "code",
   "execution_count": 3,
   "id": "ae888799",
   "metadata": {},
   "outputs": [
    {
     "name": "stdout",
     "output_type": "stream",
     "text": [
      "<class 'pandas.core.frame.DataFrame'>\n",
      "RangeIndex: 32561 entries, 0 to 32560\n",
      "Data columns (total 14 columns):\n",
      " #   Column          Non-Null Count  Dtype \n",
      "---  ------          --------------  ----- \n",
      " 0   age             32561 non-null  int64 \n",
      " 1   workclass       32561 non-null  object\n",
      " 2   fnlwgt          32561 non-null  int64 \n",
      " 3   education       32561 non-null  object\n",
      " 4   education-num   32561 non-null  int64 \n",
      " 5   marital-status  32561 non-null  object\n",
      " 6   occupation      32561 non-null  object\n",
      " 7   relationship    32561 non-null  object\n",
      " 8   sex             32561 non-null  object\n",
      " 9   capital-gain    32561 non-null  int64 \n",
      " 10  capital-loss    32561 non-null  int64 \n",
      " 11  hours-per-week  32561 non-null  int64 \n",
      " 12  native-country  32561 non-null  object\n",
      " 13  wage            32561 non-null  object\n",
      "dtypes: int64(6), object(8)\n",
      "memory usage: 3.5+ MB\n"
     ]
    }
   ],
   "source": [
    "df.info()"
   ]
  },
  {
   "cell_type": "markdown",
   "id": "5eb3ed53",
   "metadata": {},
   "source": [
    "### Drop columns Unwanted Columns"
   ]
  },
  {
   "cell_type": "code",
   "execution_count": 4,
   "id": "eb070c90",
   "metadata": {},
   "outputs": [],
   "source": [
    "drop_lis =['fnlwgt', 'education', 'marital-status', 'occupation']\n",
    "df.drop(drop_lis, axis = 1, inplace = True)"
   ]
  },
  {
   "cell_type": "code",
   "execution_count": 5,
   "id": "aa9c3a00",
   "metadata": {},
   "outputs": [],
   "source": [
    "df = df.drop(df.index[df.workclass == ' ?'])"
   ]
  },
  {
   "cell_type": "markdown",
   "id": "6a578c8f",
   "metadata": {},
   "source": [
    "### Binarize wage, sex, native country column"
   ]
  },
  {
   "cell_type": "code",
   "execution_count": 6,
   "id": "2e568175",
   "metadata": {},
   "outputs": [
    {
     "data": {
      "text/plain": [
       "array([' <=50K', ' >50K'], dtype=object)"
      ]
     },
     "execution_count": 6,
     "metadata": {},
     "output_type": "execute_result"
    }
   ],
   "source": [
    "df.wage.unique()"
   ]
  },
  {
   "cell_type": "code",
   "execution_count": 7,
   "id": "a2f48114",
   "metadata": {},
   "outputs": [],
   "source": [
    "df['wage'] = df.wage.map({' >50K': 1, ' <=50K': 0})"
   ]
  },
  {
   "cell_type": "code",
   "execution_count": 8,
   "id": "8d3cd8ae",
   "metadata": {},
   "outputs": [],
   "source": [
    "us_mask = df['native-country'] == ' United-States'\n",
    "df.loc[~us_mask, 'native-country'] = 0\n",
    "df.loc[us_mask, 'native-country'] = 1\n",
    "\n",
    "df['native-country'] = df['native-country'].astype(int)"
   ]
  },
  {
   "cell_type": "markdown",
   "id": "1db7e3f4",
   "metadata": {},
   "source": [
    "### Dummy sex, relationship and workclass columns"
   ]
  },
  {
   "cell_type": "code",
   "execution_count": 9,
   "id": "4201e25b",
   "metadata": {},
   "outputs": [],
   "source": [
    "df = pd.get_dummies(df, columns = ['sex','relationship', 'workclass'], drop_first = True)"
   ]
  },
  {
   "cell_type": "markdown",
   "id": "2eec0302",
   "metadata": {},
   "source": [
    "### Drop unneeded dummy columns"
   ]
  },
  {
   "cell_type": "code",
   "execution_count": 10,
   "id": "434b50af",
   "metadata": {},
   "outputs": [],
   "source": [
    "df.drop('workclass_ Never-worked', axis = 1, inplace = True)\n",
    "df.drop('relationship_ Not-in-family', axis = 1, inplace = True)"
   ]
  },
  {
   "cell_type": "markdown",
   "id": "c88486e8",
   "metadata": {},
   "source": [
    "# Summary Stats"
   ]
  },
  {
   "cell_type": "code",
   "execution_count": 11,
   "id": "c096451b",
   "metadata": {},
   "outputs": [
    {
     "data": {
      "text/html": [
       "<div>\n",
       "<style scoped>\n",
       "    .dataframe tbody tr th:only-of-type {\n",
       "        vertical-align: middle;\n",
       "    }\n",
       "\n",
       "    .dataframe tbody tr th {\n",
       "        vertical-align: top;\n",
       "    }\n",
       "\n",
       "    .dataframe thead th {\n",
       "        text-align: right;\n",
       "    }\n",
       "</style>\n",
       "<table border=\"1\" class=\"dataframe\">\n",
       "  <thead>\n",
       "    <tr style=\"text-align: right;\">\n",
       "      <th></th>\n",
       "      <th>age</th>\n",
       "      <th>education-num</th>\n",
       "      <th>capital-gain</th>\n",
       "      <th>capital-loss</th>\n",
       "      <th>hours-per-week</th>\n",
       "      <th>native-country</th>\n",
       "      <th>wage</th>\n",
       "      <th>sex_ Male</th>\n",
       "      <th>relationship_ Other-relative</th>\n",
       "      <th>relationship_ Own-child</th>\n",
       "      <th>relationship_ Unmarried</th>\n",
       "      <th>relationship_ Wife</th>\n",
       "      <th>workclass_ Local-gov</th>\n",
       "      <th>workclass_ Private</th>\n",
       "      <th>workclass_ Self-emp-inc</th>\n",
       "      <th>workclass_ Self-emp-not-inc</th>\n",
       "      <th>workclass_ State-gov</th>\n",
       "      <th>workclass_ Without-pay</th>\n",
       "    </tr>\n",
       "  </thead>\n",
       "  <tbody>\n",
       "    <tr>\n",
       "      <th>count</th>\n",
       "      <td>30725.000000</td>\n",
       "      <td>30725.000000</td>\n",
       "      <td>30725.000000</td>\n",
       "      <td>30725.000000</td>\n",
       "      <td>30725.000000</td>\n",
       "      <td>30725.000000</td>\n",
       "      <td>30725.000000</td>\n",
       "      <td>30725.000000</td>\n",
       "      <td>30725.000000</td>\n",
       "      <td>30725.000000</td>\n",
       "      <td>30725.000000</td>\n",
       "      <td>30725.000000</td>\n",
       "      <td>30725.000000</td>\n",
       "      <td>30725.000000</td>\n",
       "      <td>30725.000000</td>\n",
       "      <td>30725.000000</td>\n",
       "      <td>30725.000000</td>\n",
       "      <td>30725.000000</td>\n",
       "    </tr>\n",
       "    <tr>\n",
       "      <th>mean</th>\n",
       "      <td>38.439512</td>\n",
       "      <td>10.129699</td>\n",
       "      <td>1105.785094</td>\n",
       "      <td>88.889959</td>\n",
       "      <td>40.946461</td>\n",
       "      <td>0.895395</td>\n",
       "      <td>0.248983</td>\n",
       "      <td>0.676745</td>\n",
       "      <td>0.029878</td>\n",
       "      <td>0.147437</td>\n",
       "      <td>0.106461</td>\n",
       "      <td>0.046737</td>\n",
       "      <td>0.068120</td>\n",
       "      <td>0.738682</td>\n",
       "      <td>0.036322</td>\n",
       "      <td>0.082701</td>\n",
       "      <td>0.042246</td>\n",
       "      <td>0.000456</td>\n",
       "    </tr>\n",
       "    <tr>\n",
       "      <th>std</th>\n",
       "      <td>13.119665</td>\n",
       "      <td>2.562702</td>\n",
       "      <td>7497.027762</td>\n",
       "      <td>405.613208</td>\n",
       "      <td>11.987385</td>\n",
       "      <td>0.306049</td>\n",
       "      <td>0.432431</td>\n",
       "      <td>0.467727</td>\n",
       "      <td>0.170253</td>\n",
       "      <td>0.354547</td>\n",
       "      <td>0.308431</td>\n",
       "      <td>0.211079</td>\n",
       "      <td>0.251957</td>\n",
       "      <td>0.439360</td>\n",
       "      <td>0.187094</td>\n",
       "      <td>0.275435</td>\n",
       "      <td>0.201153</td>\n",
       "      <td>0.021342</td>\n",
       "    </tr>\n",
       "    <tr>\n",
       "      <th>min</th>\n",
       "      <td>17.000000</td>\n",
       "      <td>1.000000</td>\n",
       "      <td>0.000000</td>\n",
       "      <td>0.000000</td>\n",
       "      <td>1.000000</td>\n",
       "      <td>0.000000</td>\n",
       "      <td>0.000000</td>\n",
       "      <td>0.000000</td>\n",
       "      <td>0.000000</td>\n",
       "      <td>0.000000</td>\n",
       "      <td>0.000000</td>\n",
       "      <td>0.000000</td>\n",
       "      <td>0.000000</td>\n",
       "      <td>0.000000</td>\n",
       "      <td>0.000000</td>\n",
       "      <td>0.000000</td>\n",
       "      <td>0.000000</td>\n",
       "      <td>0.000000</td>\n",
       "    </tr>\n",
       "    <tr>\n",
       "      <th>25%</th>\n",
       "      <td>28.000000</td>\n",
       "      <td>9.000000</td>\n",
       "      <td>0.000000</td>\n",
       "      <td>0.000000</td>\n",
       "      <td>40.000000</td>\n",
       "      <td>1.000000</td>\n",
       "      <td>0.000000</td>\n",
       "      <td>0.000000</td>\n",
       "      <td>0.000000</td>\n",
       "      <td>0.000000</td>\n",
       "      <td>0.000000</td>\n",
       "      <td>0.000000</td>\n",
       "      <td>0.000000</td>\n",
       "      <td>0.000000</td>\n",
       "      <td>0.000000</td>\n",
       "      <td>0.000000</td>\n",
       "      <td>0.000000</td>\n",
       "      <td>0.000000</td>\n",
       "    </tr>\n",
       "    <tr>\n",
       "      <th>50%</th>\n",
       "      <td>37.000000</td>\n",
       "      <td>10.000000</td>\n",
       "      <td>0.000000</td>\n",
       "      <td>0.000000</td>\n",
       "      <td>40.000000</td>\n",
       "      <td>1.000000</td>\n",
       "      <td>0.000000</td>\n",
       "      <td>1.000000</td>\n",
       "      <td>0.000000</td>\n",
       "      <td>0.000000</td>\n",
       "      <td>0.000000</td>\n",
       "      <td>0.000000</td>\n",
       "      <td>0.000000</td>\n",
       "      <td>1.000000</td>\n",
       "      <td>0.000000</td>\n",
       "      <td>0.000000</td>\n",
       "      <td>0.000000</td>\n",
       "      <td>0.000000</td>\n",
       "    </tr>\n",
       "    <tr>\n",
       "      <th>75%</th>\n",
       "      <td>47.000000</td>\n",
       "      <td>13.000000</td>\n",
       "      <td>0.000000</td>\n",
       "      <td>0.000000</td>\n",
       "      <td>45.000000</td>\n",
       "      <td>1.000000</td>\n",
       "      <td>0.000000</td>\n",
       "      <td>1.000000</td>\n",
       "      <td>0.000000</td>\n",
       "      <td>0.000000</td>\n",
       "      <td>0.000000</td>\n",
       "      <td>0.000000</td>\n",
       "      <td>0.000000</td>\n",
       "      <td>1.000000</td>\n",
       "      <td>0.000000</td>\n",
       "      <td>0.000000</td>\n",
       "      <td>0.000000</td>\n",
       "      <td>0.000000</td>\n",
       "    </tr>\n",
       "    <tr>\n",
       "      <th>max</th>\n",
       "      <td>90.000000</td>\n",
       "      <td>16.000000</td>\n",
       "      <td>99999.000000</td>\n",
       "      <td>4356.000000</td>\n",
       "      <td>99.000000</td>\n",
       "      <td>1.000000</td>\n",
       "      <td>1.000000</td>\n",
       "      <td>1.000000</td>\n",
       "      <td>1.000000</td>\n",
       "      <td>1.000000</td>\n",
       "      <td>1.000000</td>\n",
       "      <td>1.000000</td>\n",
       "      <td>1.000000</td>\n",
       "      <td>1.000000</td>\n",
       "      <td>1.000000</td>\n",
       "      <td>1.000000</td>\n",
       "      <td>1.000000</td>\n",
       "      <td>1.000000</td>\n",
       "    </tr>\n",
       "  </tbody>\n",
       "</table>\n",
       "</div>"
      ],
      "text/plain": [
       "                age  education-num  capital-gain  capital-loss  \\\n",
       "count  30725.000000   30725.000000  30725.000000  30725.000000   \n",
       "mean      38.439512      10.129699   1105.785094     88.889959   \n",
       "std       13.119665       2.562702   7497.027762    405.613208   \n",
       "min       17.000000       1.000000      0.000000      0.000000   \n",
       "25%       28.000000       9.000000      0.000000      0.000000   \n",
       "50%       37.000000      10.000000      0.000000      0.000000   \n",
       "75%       47.000000      13.000000      0.000000      0.000000   \n",
       "max       90.000000      16.000000  99999.000000   4356.000000   \n",
       "\n",
       "       hours-per-week  native-country          wage     sex_ Male  \\\n",
       "count    30725.000000    30725.000000  30725.000000  30725.000000   \n",
       "mean        40.946461        0.895395      0.248983      0.676745   \n",
       "std         11.987385        0.306049      0.432431      0.467727   \n",
       "min          1.000000        0.000000      0.000000      0.000000   \n",
       "25%         40.000000        1.000000      0.000000      0.000000   \n",
       "50%         40.000000        1.000000      0.000000      1.000000   \n",
       "75%         45.000000        1.000000      0.000000      1.000000   \n",
       "max         99.000000        1.000000      1.000000      1.000000   \n",
       "\n",
       "       relationship_ Other-relative  relationship_ Own-child  \\\n",
       "count                  30725.000000             30725.000000   \n",
       "mean                       0.029878                 0.147437   \n",
       "std                        0.170253                 0.354547   \n",
       "min                        0.000000                 0.000000   \n",
       "25%                        0.000000                 0.000000   \n",
       "50%                        0.000000                 0.000000   \n",
       "75%                        0.000000                 0.000000   \n",
       "max                        1.000000                 1.000000   \n",
       "\n",
       "       relationship_ Unmarried  relationship_ Wife  workclass_ Local-gov  \\\n",
       "count             30725.000000        30725.000000          30725.000000   \n",
       "mean                  0.106461            0.046737              0.068120   \n",
       "std                   0.308431            0.211079              0.251957   \n",
       "min                   0.000000            0.000000              0.000000   \n",
       "25%                   0.000000            0.000000              0.000000   \n",
       "50%                   0.000000            0.000000              0.000000   \n",
       "75%                   0.000000            0.000000              0.000000   \n",
       "max                   1.000000            1.000000              1.000000   \n",
       "\n",
       "       workclass_ Private  workclass_ Self-emp-inc  \\\n",
       "count        30725.000000             30725.000000   \n",
       "mean             0.738682                 0.036322   \n",
       "std              0.439360                 0.187094   \n",
       "min              0.000000                 0.000000   \n",
       "25%              0.000000                 0.000000   \n",
       "50%              1.000000                 0.000000   \n",
       "75%              1.000000                 0.000000   \n",
       "max              1.000000                 1.000000   \n",
       "\n",
       "       workclass_ Self-emp-not-inc  workclass_ State-gov  \\\n",
       "count                 30725.000000          30725.000000   \n",
       "mean                      0.082701              0.042246   \n",
       "std                       0.275435              0.201153   \n",
       "min                       0.000000              0.000000   \n",
       "25%                       0.000000              0.000000   \n",
       "50%                       0.000000              0.000000   \n",
       "75%                       0.000000              0.000000   \n",
       "max                       1.000000              1.000000   \n",
       "\n",
       "       workclass_ Without-pay  \n",
       "count            30725.000000  \n",
       "mean                 0.000456  \n",
       "std                  0.021342  \n",
       "min                  0.000000  \n",
       "25%                  0.000000  \n",
       "50%                  0.000000  \n",
       "75%                  0.000000  \n",
       "max                  1.000000  "
      ]
     },
     "execution_count": 11,
     "metadata": {},
     "output_type": "execute_result"
    }
   ],
   "source": [
    "df.describe()"
   ]
  },
  {
   "cell_type": "markdown",
   "id": "1c67eb7c",
   "metadata": {},
   "source": [
    "# EDA"
   ]
  },
  {
   "cell_type": "code",
   "execution_count": 12,
   "id": "4dad6701",
   "metadata": {},
   "outputs": [
    {
     "data": {
      "image/png": "[encoded data removed]",
      "text/plain": [
       "<Figure size 360x720 with 2 Axes>"
      ]
     },
     "metadata": {
      "needs_background": "light"
     },
     "output_type": "display_data"
    }
   ],
   "source": [
    "plt.figure(figsize = (5,10))\n",
    "sns_plot = sns.heatmap(df.corr()[['wage']].sort_values('wage'),\n",
    "           annot=True,\n",
    "           cmap='coolwarm',\n",
    "           vmin=-1,\n",
    "           vmax=1)\n",
    "plt.title('Correlations between Features and Target', fontsize = 14, fontweight = 'bold', pad = 12);"
   ]
  },
  {
   "cell_type": "code",
   "execution_count": 13,
   "id": "1492e552",
   "metadata": {},
   "outputs": [
    {
     "data": {
      "image/png": "[encoded data removed]",
      "text/plain": [
       "<Figure size 720x1584 with 3 Axes>"
      ]
     },
     "metadata": {
      "needs_background": "light"
     },
     "output_type": "display_data"
    }
   ],
   "source": [
    "fig, ax = plt.subplots(3, 1, figsize = (10, 22))\n",
    "\n",
    "ax[0].hist(df['age'], bins = 20, range = (0, 100), color = 'dodgerblue')\n",
    "ax[0].axvline(x = df['age'].mean(), color = 'k', label = 'average age')\n",
    "ax[0].set_xlabel('Age', fontsize = 12)\n",
    "ax[0].set_ylabel('Number of People', fontsize = 12)\n",
    "ax[0].set_title('Age Distribution', fontsize = 14, fontweight = 'bold', pad = 12)\n",
    "ax[0].legend()\n",
    "\n",
    "ax[1].hist(df['education-num'], color = 'dodgerblue')\n",
    "ax[1].axvline(x = df['education-num'].mean(), color = 'k', label = 'average education')\n",
    "ax[1].set_xlabel('Years of Education', fontsize = 12)\n",
    "ax[1].set_ylabel('Number of People', fontsize = 12)\n",
    "ax[1].set_title('Years of Education Distribution', fontsize = 14, fontweight = 'bold', pad = 12)\n",
    "ax[1].legend()\n",
    "\n",
    "ax[2].hist(df['hours-per-week'], bins = 20, range = (0, 100), color = 'dodgerblue')\n",
    "ax[2].axvline(x = df['hours-per-week'].mean(), color = 'k', label = 'average hours')\n",
    "ax[2].set_xlabel('Hours Worked per Week', fontsize = 12)\n",
    "ax[2].set_ylabel('Number of People', fontsize = 12)\n",
    "ax[2].set_title('Hours Worked Distribution', fontsize = 14, fontweight = 'bold', pad = 12)\n",
    "ax[2].legend();"
   ]
  },
  {
   "cell_type": "markdown",
   "id": "9b081805",
   "metadata": {},
   "source": [
    "# Modeling"
   ]
  },
  {
   "cell_type": "code",
   "execution_count": 14,
   "id": "12db10ee",
   "metadata": {},
   "outputs": [],
   "source": [
    "X = df.drop(columns = ['wage'])\n",
    "y = df['wage']\n",
    "\n",
    "X_train, X_test, y_train, y_test = train_test_split(X, y, \n",
    "                                                    random_state = 6)"
   ]
  },
  {
   "cell_type": "code",
   "execution_count": 15,
   "id": "2d0e0268",
   "metadata": {},
   "outputs": [
    {
     "data": {
      "text/plain": [
       "0    0.751017\n",
       "1    0.248983\n",
       "Name: wage, dtype: float64"
      ]
     },
     "execution_count": 15,
     "metadata": {},
     "output_type": "execute_result"
    }
   ],
   "source": [
    "df['wage'].value_counts(normalize = True)"
   ]
  },
  {
   "cell_type": "markdown",
   "id": "dd4c6ba3",
   "metadata": {},
   "source": [
    "## Random Forest"
   ]
  },
  {
   "cell_type": "code",
   "execution_count": 16,
   "id": "5ff93297",
   "metadata": {},
   "outputs": [
    {
     "name": "stdout",
     "output_type": "stream",
     "text": [
      "Cross val score: 0.8419037292676166\n"
     ]
    },
    {
     "data": {
      "text/plain": [
       "{'max_depth': 8, 'min_samples_leaf': 3, 'n_estimators': 175, 'n_jobs': -1}"
      ]
     },
     "execution_count": 16,
     "metadata": {},
     "output_type": "execute_result"
    }
   ],
   "source": [
    "params = {\n",
    "    'max_depth': [1, 2, 3, 4, 6, 8],\n",
    "    'min_samples_leaf': [2, 3],\n",
    "    'n_estimators': [175],\n",
    "    'n_jobs': [-1]\n",
    "}\n",
    "    \n",
    "gs = GridSearchCV(RandomForestClassifier(random_state = 6),\n",
    "                  param_grid = params)\n",
    "gs.fit(X_train, y_train)\n",
    "print('Cross val score:', (gs.best_score_))\n",
    "gs.best_params_"
   ]
  },
  {
   "cell_type": "markdown",
   "id": "7ba77e00",
   "metadata": {},
   "source": [
    "### Cross Val Scores"
   ]
  },
  {
   "cell_type": "code",
   "execution_count": 17,
   "id": "ed6542f6",
   "metadata": {},
   "outputs": [
    {
     "name": "stdout",
     "output_type": "stream",
     "text": [
      "Score on training set: 0.8462005815215032\n",
      "Score on testing set: 0.8372819578234835\n",
      "Accuracy: 0.8424 ± 0.0046\n"
     ]
    }
   ],
   "source": [
    "params = gs.best_params_\n",
    "scores = cross_val_score(gs, \n",
    "                         X, y,\n",
    "                         cv = 5,\n",
    "                         n_jobs = -1)\n",
    "\n",
    "print(f'Score on training set: {gs.score(X_train, y_train)}')\n",
    "print(f'Score on testing set: {gs.score(X_test, y_test)}')\n",
    "print('Accuracy: {:.4f} ± {:.4f}'.format(scores.mean(), \n",
    "                                 2 * scores.std()))"
   ]
  },
  {
   "cell_type": "markdown",
   "id": "0be9d56c",
   "metadata": {},
   "source": [
    "**Evaluation:** The model displays good accuracy scores for both test and train data, numbers closer to 1.\n",
    "The accuracy score is slightly lower for the test data compared to the train data indicating an overfit of the model. This is typically expected with RF models. When compared to the UCI repository, the original site of the data, our model, with feature constraints performed as expected."
   ]
  },
  {
   "cell_type": "markdown",
   "id": "6b958418",
   "metadata": {},
   "source": [
    "### Confusion Matrix - Random Forest"
   ]
  },
  {
   "cell_type": "code",
   "execution_count": 18,
   "id": "b0799ffa",
   "metadata": {},
   "outputs": [
    {
     "name": "stdout",
     "output_type": "stream",
     "text": [
      "Accuracy: 0.8372819578234835\n",
      "Specificity: 0.962169632060805\n",
      "Sensitivity: 0.45536185948230323\n",
      "Precision: 0.7974098057354302\n",
      "F1: 0.5796906523201076\n"
     ]
    },
    {
     "data": {
      "image/png": "[encoded data removed]",
      "text/plain": [
       "<Figure size 432x288 with 2 Axes>"
      ]
     },
     "metadata": {
      "needs_background": "light"
     },
     "output_type": "display_data"
    }
   ],
   "source": [
    "rf_pred = gs.predict(X_test)\n",
    "metrics.confusion_matrix(y_test, rf_pred)\n",
    "metrics.plot_confusion_matrix(gs, X_test, y_test, cmap = 'GnBu', \n",
    "                              values_format = 'd', display_labels=['Under 50k', 'Over 50k']);\n",
    "\n",
    "plt.xlabel('Predicted label', fontsize = 12); plt.ylabel('Actual label', fontsize = 12)\n",
    "plt.title('Random Forest - Confusion Matrix', fontsize = 14, fontweight = 'bold', pad = 12)\n",
    "\n",
    "metrics.confusion_matrix(y_test, rf_pred).ravel()\n",
    "tn, fp, fn, tp = metrics.confusion_matrix(y_test, rf_pred).flatten()\n",
    "print('Accuracy:', metrics.accuracy_score(y_test, rf_pred))\n",
    "print('Specificity:', (tn / (tn + fp)))\n",
    "print('Sensitivity:', metrics.recall_score(y_test, rf_pred))\n",
    "print('Precision:', metrics.precision_score(y_test, rf_pred))\n",
    "print('F1:', metrics.f1_score(y_test, rf_pred));"
   ]
  },
  {
   "cell_type": "markdown",
   "id": "f3fc054c",
   "metadata": {},
   "source": [
    "### ROC Curve - Random Forest"
   ]
  },
  {
   "cell_type": "code",
   "execution_count": 19,
   "id": "b29aa407",
   "metadata": {},
   "outputs": [
    {
     "name": "stdout",
     "output_type": "stream",
     "text": [
      "ROC AUC Score: 0.888\n"
     ]
    },
    {
     "data": {
      "image/png": "[encoded data removed]",
      "text/plain": [
       "<Figure size 432x288 with 1 Axes>"
      ]
     },
     "metadata": {
      "needs_background": "light"
     },
     "output_type": "display_data"
    }
   ],
   "source": [
    "pred_df = pd.DataFrame({'true_values': y_test,\n",
    "                        'pred_probs': gs.predict_proba(X_test)[:,1]})\n",
    "\n",
    "metrics.plot_roc_curve(gs, X_test, y_test)\n",
    "\n",
    "plt.plot([0, 1], [0, 1], color='r', label='Baseline')\n",
    "plt.xlabel('False Postive Rate', fontsize = 12); plt.ylabel('True Postive Rate', fontsize = 12)\n",
    "plt.title('Random Forest - ROC Curve', fontsize = 14, fontweight = 'bold', pad = 12)\n",
    "plt.legend();\n",
    "\n",
    "print('ROC AUC Score:', round(metrics.roc_auc_score(y_test, pred_df['pred_probs']), 3))"
   ]
  },
  {
   "cell_type": "markdown",
   "id": "e0e9f0d8",
   "metadata": {},
   "source": [
    "## XGBClassifier"
   ]
  },
  {
   "cell_type": "code",
   "execution_count": 20,
   "id": "697548fa",
   "metadata": {},
   "outputs": [
    {
     "name": "stdout",
     "output_type": "stream",
     "text": [
      "Cross val score: 0.8557908289337288\n"
     ]
    },
    {
     "data": {
      "text/plain": [
       "{'eta': 0.4, 'max_depth': 2, 'n_estimators': 175, 'n_jobs': -1, 'verbosity': 0}"
      ]
     },
     "execution_count": 20,
     "metadata": {},
     "output_type": "execute_result"
    }
   ],
   "source": [
    "params_2 = {\n",
    "    'max_depth': [1, 2, 3, 4, 6, 8],\n",
    "    'verbosity': [0],\n",
    "    'eta': [.1, .2, .4],\n",
    "    'n_estimators': [175],\n",
    "    'n_jobs': [-1]\n",
    "}\n",
    "    \n",
    "gs_2 = GridSearchCV(XGBClassifier(random_state = 6), \n",
    "                    param_grid = params_2)\n",
    "gs_2.fit(X_train, y_train)\n",
    "print('Cross val score:', (gs_2.best_score_))\n",
    "gs_2.best_params_"
   ]
  },
  {
   "cell_type": "markdown",
   "id": "f138dfdf",
   "metadata": {},
   "source": [
    "### Cross Val Scores"
   ]
  },
  {
   "cell_type": "code",
   "execution_count": 21,
   "id": "5186b390",
   "metadata": {},
   "outputs": [
    {
     "name": "stdout",
     "output_type": "stream",
     "text": [
      "Score on training set: 0.8597404851798811\n",
      "Score on testing set: 0.852902889872429\n",
      "Accuracy: 0.8540 ± 0.0086\n"
     ]
    }
   ],
   "source": [
    "params_2 = gs_2.best_params_\n",
    "scores_2 = cross_val_score(gs_2, \n",
    "                           X_train, y_train, \n",
    "                           cv = 5, \n",
    "                           n_jobs = -1)\n",
    "\n",
    "print(f'Score on training set: {gs_2.score(X_train, y_train)}')\n",
    "print(f'Score on testing set: {gs_2.score(X_test, y_test)}')\n",
    "print('Accuracy: {:.4f} ± {:.4f}'.format(scores_2.mean(), \n",
    "                                 2 * scores_2.std()))"
   ]
  },
  {
   "cell_type": "markdown",
   "id": "0471a533",
   "metadata": {},
   "source": [
    "### Confusion Matrix - XGBClassifier"
   ]
  },
  {
   "cell_type": "code",
   "execution_count": 22,
   "id": "09e6d79f",
   "metadata": {},
   "outputs": [
    {
     "name": "stdout",
     "output_type": "stream",
     "text": [
      "Accuracy: 0.852902889872429\n",
      "Specificity: 0.9447227500431854\n",
      "Sensitivity: 0.572107765451664\n",
      "Precision: 0.7719173200285103\n",
      "F1: 0.6571601941747572\n"
     ]
    },
    {
     "data": {
      "image/png": "[encoded data removed]",
      "text/plain": [
       "<Figure size 432x288 with 2 Axes>"
      ]
     },
     "metadata": {
      "needs_background": "light"
     },
     "output_type": "display_data"
    }
   ],
   "source": [
    "xg_pred = gs_2.predict(X_test)\n",
    "metrics.confusion_matrix(y_test, xg_pred)\n",
    "metrics.plot_confusion_matrix(gs_2, X_test, y_test, cmap = 'GnBu', \n",
    "                              values_format = 'd', display_labels=['Under 50k', 'Over 50k'])\n",
    "\n",
    "plt.xlabel('Predicted label', fontsize = 12); plt.ylabel('Actual label', fontsize = 12)\n",
    "plt.title('XGBClassifier - Confusion Matrix', fontsize = 14, fontweight = 'bold', pad = 12)\n",
    "\n",
    "metrics.confusion_matrix(y_test, xg_pred).ravel()\n",
    "tn, fp, fn, tp = metrics.confusion_matrix(y_test, xg_pred).flatten()\n",
    "print('Accuracy:', gs_2.score(X_test, y_test))\n",
    "print('Specificity:', (tn / (tn + fp)))\n",
    "print('Sensitivity:', metrics.recall_score(y_test, xg_pred))\n",
    "print('Precision:', metrics.precision_score(y_test, xg_pred))\n",
    "print('F1:', metrics.f1_score(y_test, xg_pred))"
   ]
  },
  {
   "cell_type": "markdown",
   "id": "0ea7bbbb",
   "metadata": {},
   "source": [
    "### ROC Curve - XGBClassifier"
   ]
  },
  {
   "cell_type": "code",
   "execution_count": 23,
   "id": "2a0cbfdd",
   "metadata": {},
   "outputs": [
    {
     "name": "stdout",
     "output_type": "stream",
     "text": [
      "ROC AUC Score: 0.909\n"
     ]
    },
    {
     "data": {
      "image/png": "[encoded data removed]",
      "text/plain": [
       "<Figure size 432x288 with 1 Axes>"
      ]
     },
     "metadata": {
      "needs_background": "light"
     },
     "output_type": "display_data"
    }
   ],
   "source": [
    "pred2_df = pd.DataFrame({'true_values': y_test,\n",
    "                        'pred_probs': gs_2.predict_proba(X_test)[:,1]})\n",
    "\n",
    "metrics.plot_roc_curve(gs_2, X_test, y_test)\n",
    "\n",
    "plt.plot([0, 1], [0, 1], color='r', label='Baseline')\n",
    "plt.xlabel('False Postive Rate', fontsize = 12); plt.ylabel('True Postive Rate', fontsize = 12)\n",
    "plt.title('XGBClassifier - ROC Curve', fontweight = 'bold', pad = 12)\n",
    "plt.legend();\n",
    "\n",
    "print('ROC AUC Score:', round(metrics.roc_auc_score(y_test, pred2_df['pred_probs']), 3))"
   ]
  },
  {
   "cell_type": "markdown",
   "id": "ada5482e",
   "metadata": {},
   "source": [
    "## XGBClassifier Dart"
   ]
  },
  {
   "cell_type": "code",
   "execution_count": 24,
   "id": "b421bac3",
   "metadata": {},
   "outputs": [
    {
     "name": "stdout",
     "output_type": "stream",
     "text": [
      "0.854272061305176\n"
     ]
    },
    {
     "data": {
      "text/plain": [
       "{'booster': 'dart',\n",
       " 'n_jobs': -1,\n",
       " 'normalize_type': 'tree',\n",
       " 'one_drop': 1,\n",
       " 'rate_drop': 0,\n",
       " 'sample_type': 'uniform',\n",
       " 'use_label_encoder': False,\n",
       " 'verbosity': 0}"
      ]
     },
     "execution_count": 24,
     "metadata": {},
     "output_type": "execute_result"
    }
   ],
   "source": [
    "params_3 = {\n",
    "    'booster' : ['dart'],\n",
    "    'verbosity' : [0],\n",
    "    'use_label_encoder' : [False],\n",
    "    'sample_type' : ['uniform', 'weighted'],\n",
    "    'normalize_type' : ['tree', 'forest'],\n",
    "    'rate_drop' : [0, .1,],\n",
    "    'one_drop' : [0, 1],\n",
    "    'n_jobs' : [-1]\n",
    "}\n",
    "\n",
    "gs_3 = GridSearchCV(XGBClassifier(random_state = 6), \n",
    "                    param_grid = params_3)\n",
    "gs_3.fit(X_train, y_train)\n",
    "print(gs_3.best_score_)\n",
    "gs_3.best_params_"
   ]
  },
  {
   "cell_type": "markdown",
   "id": "e853fd68",
   "metadata": {},
   "source": [
    "### Cross Val Scores"
   ]
  },
  {
   "cell_type": "code",
   "execution_count": 25,
   "id": "c39270df",
   "metadata": {},
   "outputs": [
    {
     "name": "stdout",
     "output_type": "stream",
     "text": [
      "Score on training set: 0.872369049168945\n",
      "Score on testing set: 0.8525123665712054\n",
      "Accuracy: 0.8540 ± 0.0046\n"
     ]
    }
   ],
   "source": [
    "params_3 = gs_3.best_params_\n",
    "scores_3 = cross_val_score(gs_3, \n",
    "                           X_train, y_train, \n",
    "                           cv = 5, \n",
    "                           n_jobs = -1)\n",
    "\n",
    "print(f'Score on training set: {gs_3.score(X_train, y_train)}')\n",
    "print(f'Score on testing set: {gs_3.score(X_test, y_test)}')\n",
    "print('Accuracy: {:.4f} ± {:.4f}'.format(scores_2.mean(), \n",
    "                                 2 * scores.std()))"
   ]
  },
  {
   "cell_type": "markdown",
   "id": "00d4e866",
   "metadata": {},
   "source": [
    "### Confusion Matrix - XGBClassifier Dart"
   ]
  },
  {
   "cell_type": "code",
   "execution_count": 26,
   "id": "a7c569a4",
   "metadata": {},
   "outputs": [
    {
     "name": "stdout",
     "output_type": "stream",
     "text": [
      "Accuracy: 0.8525123665712054\n",
      "Specificity: 0.9455864570737605\n",
      "Sensitivity: 0.5678816693079768\n",
      "Precision: 0.7733812949640287\n",
      "F1: 0.6548888212001218\n"
     ]
    },
    {
     "data": {
      "image/png": "[encoded data removed]",
      "text/plain": [
       "<Figure size 432x288 with 2 Axes>"
      ]
     },
     "metadata": {
      "needs_background": "light"
     },
     "output_type": "display_data"
    }
   ],
   "source": [
    "dart_pred = gs_3.predict(X_test)\n",
    "metrics.confusion_matrix(y_test, dart_pred)\n",
    "metrics.plot_confusion_matrix(gs_3, X_test, y_test, cmap = 'GnBu', \n",
    "                              values_format = 'd', display_labels=['Under 50k', 'Over 50k'])\n",
    "\n",
    "plt.xlabel('Predicted label', fontsize = 12); plt.ylabel('Actual label', fontsize = 12)\n",
    "plt.title('XGBClassifier Dart - Confusion Matrix', fontsize = 14, fontweight = 'bold', pad = 12)\n",
    "plt.tight_layout();\n",
    "\n",
    "metrics.confusion_matrix(y_test, dart_pred).ravel()\n",
    "tn, fp, fn, tp = metrics.confusion_matrix(y_test, dart_pred).flatten()\n",
    "print('Accuracy:', gs_3.score(X_test, y_test))\n",
    "print('Specificity:', (tn / (tn + fp)))\n",
    "print('Sensitivity:', metrics.recall_score(y_test, dart_pred))\n",
    "print('Precision:', metrics.precision_score(y_test, dart_pred))\n",
    "print('F1:', metrics.f1_score(y_test, dart_pred))"
   ]
  },
  {
   "cell_type": "markdown",
   "id": "b9e25f3e",
   "metadata": {},
   "source": [
    "### ROC Curve - XGBClassifier Dart"
   ]
  },
  {
   "cell_type": "code",
   "execution_count": 27,
   "id": "004ebb4c",
   "metadata": {},
   "outputs": [
    {
     "name": "stdout",
     "output_type": "stream",
     "text": [
      "ROC AUC Score: 0.91\n"
     ]
    },
    {
     "data": {
      "image/png": "[encoded data removed]",
      "text/plain": [
       "<Figure size 432x288 with 1 Axes>"
      ]
     },
     "metadata": {
      "needs_background": "light"
     },
     "output_type": "display_data"
    }
   ],
   "source": [
    "pred3_df = pd.DataFrame({'true_values': y_test,\n",
    "                         'pred_probs': gs_3.predict_proba(X_test)[:,1]})\n",
    "\n",
    "metrics.plot_roc_curve(gs_3, X_test, y_test)\n",
    "\n",
    "plt.plot([0, 1], [0, 1], color='r', label='Baseline')\n",
    "plt.xlabel('False Postive Rate', fontsize = 12); plt.ylabel('True Postive Rate', fontsize = 12)\n",
    "plt.title('XGBClassifier Dart - ROC Curve', fontweight = 'bold', pad = 12)\n",
    "\n",
    "print('ROC AUC Score:', round(metrics.roc_auc_score(y_test, pred3_df['pred_probs']), 3))"
   ]
  },
  {
   "cell_type": "markdown",
   "id": "b6ae64c2",
   "metadata": {},
   "source": [
    "# Export Data"
   ]
  },
  {
   "cell_type": "code",
   "execution_count": 28,
   "id": "e63147db",
   "metadata": {},
   "outputs": [],
   "source": [
    "x_sub = pd.read_csv('./data/test_data.csv')\n",
    "\n",
    "drop_lis =['fnlwgt', 'education', 'marital-status', 'occupation']\n",
    "x_sub.drop(drop_lis, axis = 1, inplace = True)\n",
    "\n",
    "us_mask = x_sub['native-country'] == ' United-States'\n",
    "x_sub.loc[~us_mask, 'native-country'] = 0\n",
    "x_sub.loc[us_mask, 'native-country'] = 1\n",
    "x_sub['native-country'] = x_sub['native-country'].astype(int)\n",
    "\n",
    "x_sub = x_sub.drop(x_sub.index[x_sub.workclass == ' ?'])\n",
    "\n",
    "x_sub = pd.get_dummies(x_sub, columns=['sex', 'relationship','workclass'], drop_first = True)\n",
    "\n",
    "x_sub.drop('workclass_ Never-worked', axis = 1, inplace = True)\n",
    "x_sub.drop('relationship_ Not-in-family', axis = 1, inplace = True)"
   ]
  },
  {
   "cell_type": "code",
   "execution_count": 29,
   "id": "87d54c98",
   "metadata": {},
   "outputs": [],
   "source": [
    "wage_sub = gs_2.predict(x_sub)\n",
    "sf = pd.DataFrame(wage_sub, columns = ['wage'])\n",
    "sf.to_csv('./data/sub.csv')"
   ]
  }
 ],
 "metadata": {
  "kernelspec": {
   "display_name": "Python 3",
   "language": "python",
   "name": "python3"
  },
  "language_info": {
   "codemirror_mode": {
    "name": "ipython",
    "version": 3
   },
   "file_extension": ".py",
   "mimetype": "text/x-python",
   "name": "python",
   "nbconvert_exporter": "python",
   "pygments_lexer": "ipython3",
   "version": "3.8.8"
  }
 },
 "nbformat": 4,
 "nbformat_minor": 5
}
